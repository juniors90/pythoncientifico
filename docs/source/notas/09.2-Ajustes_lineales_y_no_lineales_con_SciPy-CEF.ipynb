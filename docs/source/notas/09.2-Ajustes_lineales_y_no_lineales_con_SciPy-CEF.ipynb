{
 "cells": [
  {
   "cell_type": "markdown",
   "metadata": {},
   "source": [
    "# Ajustes lineales, no lineales y busqueda de mínimos y máximos"
   ]
  },
  {
   "cell_type": "markdown",
   "metadata": {},
   "source": [
    "# `SciPy`"
   ]
  },
  {
   "cell_type": "markdown",
   "metadata": {},
   "source": [
    "- `SciPy` es una biblioteca libre y de código abierto para Python. Se compone de herramientas y algoritmos matemáticos. Se creó a partir de la colección original de Travis Oliphant, que se componía de módulos de extensión para Python y fue lanzada en 1999 bajo el nombre de Multipack, llamada así por los paquetes netlib que reunían a ODEPACK, QUADPACK, y MINPACK.\n",
    "\n",
    "- `SciPy` contiene módulos para optimización, álgebra lineal, integración, interpolación, funciones especiales, FFT, procesamiento de señales y de imagen, resolución de ODEs y otras tareas para la ciencia e ingeniería.\n",
    "\n",
    "- `SciPy` se basa en el objeto de matriz NumPy y es parte del conjunto NumPy, que incluye herramientas como Matplotlib, Pandas y SymPy, y un conjunto en expansión de bibliotecas de computación científica. Este conjunto está dirigido al mismo tipo de usuarios que los de aplicaciones como MATLAB, GNU Octave, y Scilab. A veces también se hace referencia a este conjunto de herramientas y bibliotecas como SciPy."
   ]
  },
  {
   "cell_type": "markdown",
   "metadata": {},
   "source": [
    "https://www.scipy.org/index.html  \n",
    "https://www.scipy.org/install.html  \n",
    "pip install scipy  \n",
    "sudo pip3 install sympy"
   ]
  },
  {
   "cell_type": "markdown",
   "metadata": {},
   "source": [
    "## Ajuste de funciones generales - SciPy"
   ]
  },
  {
   "cell_type": "markdown",
   "metadata": {},
   "source": [
    "Si queremos hacer un ajuste general, no necesariamente polinómico, debemos usar alguno de los métodos del paquete optimize, que contiene varios optimizadores locales y globales. El más común es leastsq que, al ser un optimizador, hay que definir previamente una función residuo que es la que realmente se va minimizar.\n",
    "Para ello necesitamos el paquete `SciPy`.\n",
    "\n",
    "http://webs.ucm.es/info/aocg/python/modulos_cientificos/scipy/index.html"
   ]
  },
  {
   "cell_type": "markdown",
   "metadata": {},
   "source": [
    "Su organización se estructura en subpaquetes, que se pueden considerar especializados en dominios científicos determinados. Podemos encontrar estos paquetes, según la ayuda de `SciPy`:\n",
    "\n",
    "* linalg – Algebra lineal\n",
    "* signal – Procesamiento de señales\n",
    "* stats – Funciones estadísticas\n",
    "* special – Funciones especiales\n",
    "* integrate – Integración\n",
    "* interpolate – Herramientas de interpolación\n",
    "* optimize – Herramientas de optimización\n",
    "* fftpack – Algortimos de transformada de Fourier\n",
    "* io – Entrada y salida de datos\n",
    "* lib.lapack – Wrappers a la librería LAPACK\n",
    "* lib.blas – Wrappers a la librería BLAS\n",
    "* lib – Wrappers a librerías externas\n",
    "* sparse – Matrices sparse\n",
    "* misc – otras utilidades\n",
    "* cluster – Vector Quantization / Kmeans\n",
    "* maxentropy – Ajuste a modelos con máxima entropía\n",
    "\n",
    "Los subpaquetes de Scipy se tienen que importar de forma separada. Por ejemplo:"
   ]
  },
  {
   "cell_type": "markdown",
   "metadata": {},
   "source": [
    "```Python\n",
    "from scipy import linalg, optimize.\n",
    "# Tanto Scipy como Numpy tienen versiones de su documentación en pdf y html en http://docs.scipy.org/. También se puede obtener ayuda de las funciones y de los módulos mediante\n",
    "sp.info(funcion)\n",
    "```\n",
    "como por ejemplo\n",
    "```Python\n",
    "import scipy as sp               # Importamos el módulo scipy como el alias sp\n",
    "sp.info(sp.optimize.fmin)        # Consultamos la información de la función fmin.\n",
    "```\n",
    "Otra forma de buscar información es con el comando source, que lista el código de esa función,\n",
    "```Python\n",
    "sp.source(sp.linspace)\n",
    "```"
   ]
  },
  {
   "cell_type": "markdown",
   "metadata": {},
   "source": [
    "##  Ajuste de una función usando `scipy.optimize  curve_fit`"
   ]
  },
  {
   "cell_type": "code",
   "execution_count": 1,
   "metadata": {},
   "outputs": [],
   "source": [
    "\n",
    "\"\"\"\n",
    "Descripción: Ejemplo de cómo usar la función curve_fit perteneciente a scipy.optimize para \n",
    "ajustar una función a una curva.\n",
    "\"\"\"\n",
    "import numpy as np\n",
    "import matplotlib.pyplot as plt             # Importamos matplotlib.pyplot como el alias plt.\n",
    "from scipy.optimize import curve_fit        # Importamos curve_fit de scipy.optimize\n",
    "import scipy as sp                          # Importamos scipy como el alias sp"
   ]
  },
  {
   "cell_type": "markdown",
   "metadata": {},
   "source": [
    "Vamos a recrear el ejemplo anterior, resuelto con `NumPy` y compararemos los resultados del ajuste.  "
   ]
  },
  {
   "cell_type": "code",
   "execution_count": 2,
   "metadata": {},
   "outputs": [],
   "source": [
    "n = 50                                              # haremos 50 datos con ruido aleatorio\n",
    "jitter_amp = 4.0                                    # esto es la amplitud del ruido\n",
    "x = np.linspace(0,10,n)                             # generamos la variable x\n",
    "jitter = jitter_amp * (np.random.random(n)-0.5)     # calculamos el ruido para cada dato\n",
    "y = x + jitter"
   ]
  },
  {
   "cell_type": "markdown",
   "metadata": {},
   "source": [
    "Graficamos"
   ]
  },
  {
   "cell_type": "code",
   "execution_count": 3,
   "metadata": {},
   "outputs": [
    {
     "data": {
      "image/png": "[encoded data removed]",
      "text/plain": [
       "<Figure size 432x288 with 1 Axes>"
      ]
     },
     "metadata": {
      "needs_background": "light"
     },
     "output_type": "display_data"
    }
   ],
   "source": [
    "plt.plot(x,y,'ok')\n",
    "plt.grid()"
   ]
  },
  {
   "cell_type": "markdown",
   "metadata": {},
   "source": [
    "- Ahora definamos una función de ajuste"
   ]
  },
  {
   "cell_type": "markdown",
   "metadata": {},
   "source": [
    "Rehagamos el ajuste usando NumPy a los efectos de comparar los coeficientes obtenidos"
   ]
  },
  {
   "cell_type": "code",
   "execution_count": 4,
   "metadata": {},
   "outputs": [
    {
     "data": {
      "text/plain": [
       "array([0.97570301, 0.39393368])"
      ]
     },
     "execution_count": 4,
     "metadata": {},
     "output_type": "execute_result"
    }
   ],
   "source": [
    "a = np.polyfit(x,y,1)    #  el número 1 significa que usaremos un polin de 1er grado\n",
    "a"
   ]
  },
  {
   "cell_type": "code",
   "execution_count": 5,
   "metadata": {},
   "outputs": [],
   "source": [
    "def fit_func(t,m,b):\n",
    "    return m*t+b"
   ]
  },
  {
   "cell_type": "markdown",
   "metadata": {},
   "source": [
    "Y utilizamos la función `optimize.curve_fit`"
   ]
  },
  {
   "cell_type": "code",
   "execution_count": 6,
   "metadata": {},
   "outputs": [
    {
     "data": {
      "text/plain": [
       "(array([0.97570301, 0.39393368]), array([0.97570301, 0.39393368]))"
      ]
     },
     "execution_count": 6,
     "metadata": {},
     "output_type": "execute_result"
    }
   ],
   "source": [
    "p, cov = curve_fit(fit_func,x,y)\n",
    "p, a # observemos que a es el resulato obtenido con anterioridad"
   ]
  },
  {
   "cell_type": "markdown",
   "metadata": {},
   "source": [
    "Esta es la matriz de covariancia"
   ]
  },
  {
   "cell_type": "code",
   "execution_count": 7,
   "metadata": {},
   "outputs": [
    {
     "data": {
      "text/plain": [
       "array([[ 0.0032506 , -0.01625299],\n",
       "       [-0.01625299,  0.10945891]])"
      ]
     },
     "execution_count": 7,
     "metadata": {},
     "output_type": "execute_result"
    }
   ],
   "source": [
    "cov"
   ]
  },
  {
   "cell_type": "markdown",
   "metadata": {},
   "source": [
    "Ahora grafiquemos los resultados"
   ]
  },
  {
   "cell_type": "code",
   "execution_count": 8,
   "metadata": {},
   "outputs": [
    {
     "data": {
      "text/plain": [
       "<matplotlib.legend.Legend at 0x7f5347172c40>"
      ]
     },
     "execution_count": 8,
     "metadata": {},
     "output_type": "execute_result"
    },
    {
     "data": {
      "image/png": "[encoded data removed]",
      "text/plain": [
       "<Figure size 432x288 with 1 Axes>"
      ]
     },
     "metadata": {
      "needs_background": "light"
     },
     "output_type": "display_data"
    }
   ],
   "source": [
    "t = np.linspace(0,10,n)\n",
    "plt.plot(x,y,'ok')\n",
    "plt.plot(t, p[0]*t+p[1],'g') # Aqui utilizamos los resultados\n",
    "plt.grid()\n",
    "plt.xlabel('Eje x')\n",
    "plt.ylabel('Eje y')\n",
    "plt.title('Ajuste lineal de datos con ruido')\n",
    "plt.legend(['Datos con ruido', 'Ajuste lineal'], loc = 0)"
   ]
  },
  {
   "cell_type": "markdown",
   "metadata": {},
   "source": [
    "Para no usar datos experimentales reales, para ello definimos una función que a partir de unos coeficientes inventados crea un array y al que añadimos un array de numeros aleatorios de la misma dimension que x mediante sp.random.normal que ponderamos con el factor k."
   ]
  },
  {
   "cell_type": "markdown",
   "metadata": {},
   "source": [
    "Para este ejemplo imaginaremos un experimento, cuyos resultados en función del tiempo, vienen dados por la función,\n",
    "\n",
    "$$experimen = e^{\\left(\\frac{-bx^{2}}{2d^{2}}\\right)}+cx$$\n",
    "\n",
    "siendo a, b, c y d coeficientes desconocidos que el investigador saber para mejorar sus publicaciones.  "
   ]
  },
  {
   "cell_type": "code",
   "execution_count": 9,
   "metadata": {},
   "outputs": [],
   "source": [
    "# definimos la función\n",
    "def mi_funcion(x, a, b, c, d):\n",
    "  \"\"\"\n",
    "  * (x, float, float, float, float ) --> (mismo_tipo_x)\n",
    "  * Descripción: definición de una función general.\n",
    "  * Entradas:\n",
    "  - x = variable.\n",
    "  - a, b, c, d = Coeficientes de la función.\n",
    "  * Salidas:\n",
    "  - a * np.exp(-b*x**2/(2*d**2)) + c * x\n",
    "  * Test:\n",
    "  >>> y = mi_funcion(5, 2.5, 1.3, 0.5,1)\n",
    "  2.50000021911\n",
    "  \"\"\"\n",
    "\n",
    "  return a * np.exp(-b*x**2/(2*d**2)) + c * x"
   ]
  },
  {
   "cell_type": "code",
   "execution_count": 10,
   "metadata": {},
   "outputs": [],
   "source": [
    "# Añadimos ruido a la función\n",
    "\n",
    "x = np.linspace(0, 5,30)\n",
    "\n",
    "a, b, c, d = 2.5, 1.3, 0.5, 1\n",
    "y = mi_funcion(x, a, b, c, d)\n",
    "\n",
    "def ruido(x,y,k):\n",
    "    \"\"\"\n",
    "    * (array, array, float) --> (array)\n",
    "    * Descripción: definición de una función general que mete ruido a la función creada.\n",
    "    De esta forma simulamos puntos experimentales.\n",
    "    * Entradas:\n",
    "    - x, y = arrays dimensionales.\n",
    "    * Salidas:\n",
    "    - yn = array dimensional con los datos experimentales simulados\n",
    "     \"\"\"\n",
    "\n",
    "    yn = y + k * np.random.normal(size = len(x))\n",
    "    return yn\n",
    "# Aqui `len(x)` nos dice cual es la longitud del vector con los datos, asi generamos otros \n",
    "# vector con el ruido que le sumamos a los datos medidos (simulados)"
   ]
  },
  {
   "cell_type": "markdown",
   "metadata": {},
   "source": [
    "Ajustamos nuestros datos experimentales recien creados a la función inicial mediante curve_fit. Los resultados los vamos a almacener en coeficientes_optimizados y covarianza_estimada que es la covarianza de los coeficientes optimizados,"
   ]
  },
  {
   "cell_type": "code",
   "execution_count": 11,
   "metadata": {},
   "outputs": [],
   "source": [
    "# Ajustamos los datos experimentales a nuestra función y los almacenamos\n",
    "coeficientes_optimizados, covarianza_estimada = curve_fit(mi_funcion, x, y)"
   ]
  },
  {
   "cell_type": "markdown",
   "metadata": {},
   "source": [
    "por último presentamos en pantalla,"
   ]
  },
  {
   "cell_type": "code",
   "execution_count": 12,
   "metadata": {},
   "outputs": [
    {
     "name": "stdout",
     "output_type": "stream",
     "text": [
      "Coeficientes optimizados:  [  2.5        247.41839953   0.5         13.79571839]\n",
      "Covarianza estimada:  [[ 4.60597051e-33 -6.46166484e-24  1.01869773e-34 -1.80146903e-25]\n",
      " [-6.46166484e-24  1.56839159e-13 -1.78717021e-24  4.37257068e-15]\n",
      " [ 1.01869771e-34 -1.78717016e-24  8.62890684e-35 -4.98251079e-26]\n",
      " [-1.80146903e-25  4.37257068e-15 -4.98251099e-26  1.21904341e-16]]\n"
     ]
    }
   ],
   "source": [
    "# Mostramos los coeficientes calculados\n",
    "# y = mi_funcion(x, 2.5, 1.3, 0.5, 1)\n",
    "print('Coeficientes optimizados: ', coeficientes_optimizados)\n",
    "print('Covarianza estimada: ', covarianza_estimada)"
   ]
  },
  {
   "cell_type": "code",
   "execution_count": 13,
   "metadata": {},
   "outputs": [
    {
     "data": {
      "image/png": "[encoded data removed]",
      "text/plain": [
       "<Figure size 432x288 with 1 Axes>"
      ]
     },
     "metadata": {
      "needs_background": "light"
     },
     "output_type": "display_data"
    }
   ],
   "source": [
    "# Creamos la figura\n",
    "plt.figure()\n",
    "\n",
    "# Dibujamos los datos experimentales.\n",
    "plt.plot(x,y,'ro', label = 'Experimental')\n",
    "\n",
    "# Dibujamos\n",
    "plt.plot(x,mi_funcion(x,coeficientes_optimizados[0],coeficientes_optimizados[1],coeficientes_optimizados[2], coeficientes_optimizados[3]), label = 'Ajuste')\n",
    "\n",
    "# Añadimos la leyenda\n",
    "plt.legend()\n",
    "\n",
    "plt.xlabel('Variable Indep (u.a.)')\n",
    "plt.ylabel('Experimento (u.a.)')\n",
    "plt.grid()\n",
    "#plt.grid(b=True, color='g')\n",
    "# Mostramos la gráfica\n",
    "plt.show()"
   ]
  },
  {
   "cell_type": "markdown",
   "metadata": {},
   "source": [
    "## Ajuste por cuadrados mínimos usando `scipy.optimize  leastsq`"
   ]
  },
  {
   "cell_type": "code",
   "execution_count": 14,
   "metadata": {},
   "outputs": [],
   "source": [
    "# import numpy as np\n",
    "# from matplotlib import pyplot as plt\n",
    "from scipy.optimize import leastsq\n",
    "# %matplotlib inline\n",
    "# Datos de laboratorio\n",
    "datos_y = np.array([ 2.9, 6.1, 10.9, 12.8, 19.2])\n",
    "datos_x = np.array([ 1.0, 2.0, 3.0, 4.0, 5.0])"
   ]
  },
  {
   "cell_type": "code",
   "execution_count": 15,
   "metadata": {},
   "outputs": [],
   "source": [
    "# Función para calcular los residuos, donde\n",
    "# se calcula (datos - modelo)\n",
    "def residuos(p, y, x):\n",
    "    error  = y - (p[0]*x + p[1])\n",
    "    return error"
   ]
  },
  {
   "cell_type": "code",
   "execution_count": 16,
   "metadata": {},
   "outputs": [],
   "source": [
    "# Parámetros iniciales estimados\n",
    "# y = p0[0]*x  + p0[0]\n",
    "\n",
    "p0 = [2.0, 0.0]"
   ]
  },
  {
   "cell_type": "code",
   "execution_count": 17,
   "metadata": {},
   "outputs": [],
   "source": [
    "# Hacemos  el ajuste por minimos cuadrados con leastsq(). El primer parámetro\n",
    "# es la funcion de residuos, luego los parámetro iniciales y una tupla con los\n",
    "# argumentos de la funcion de residuos, en este caso, datos_y y datos_x en\n",
    "# ese orden, porque así se definió la función de error\n",
    "ajuste = leastsq(residuos, p0, args=(datos_y, datos_x))"
   ]
  },
  {
   "cell_type": "code",
   "execution_count": 18,
   "metadata": {},
   "outputs": [
    {
     "name": "stdout",
     "output_type": "stream",
     "text": [
      "[ 3.93 -1.41]\n",
      "3.9300000000042097\n"
     ]
    }
   ],
   "source": [
    "# El resultado es una lista, cuyo primer elemento es otra\n",
    "# lista con los parámetros del ajuste\n",
    "print(ajuste[0])\n",
    "print(ajuste[0][0])\n",
    "# array([ 3.93, -1.41])"
   ]
  },
  {
   "cell_type": "code",
   "execution_count": 19,
   "metadata": {},
   "outputs": [
    {
     "data": {
      "image/png": "[encoded data removed]",
      "text/plain": [
       "<Figure size 432x288 with 1 Axes>"
      ]
     },
     "metadata": {
      "needs_background": "light"
     },
     "output_type": "display_data"
    }
   ],
   "source": [
    "plt.plot(datos_x,datos_y,'xg', label = 'Datos de laboratorio')\n",
    "yres = ajuste[0][0] * datos_x  + ajuste[0][1]\n",
    "plt.plot(datos_x,yres,'or', label = 'Datos ajustados')\n",
    "plt.grid()"
   ]
  },
  {
   "cell_type": "markdown",
   "metadata": {},
   "source": [
    "Veamos otro ejemplo para ajustar una función seno:"
   ]
  },
  {
   "cell_type": "code",
   "execution_count": 20,
   "metadata": {},
   "outputs": [],
   "source": [
    "from scipy import random"
   ]
  },
  {
   "cell_type": "code",
   "execution_count": 21,
   "metadata": {},
   "outputs": [],
   "source": [
    "# Generamos unos datos artificiales para hacer el ejemplo\n",
    "# A datos_y se le añade \"ruido\" que simula error de\n",
    "# medida, añadiendole un valor aleatorio\n",
    "datos_x = np.arange(0, 0.1, 0.003)\n",
    "A, k, theta = 10.0, 33.3, np.pi/5.0  # Definimos tres datos\n",
    "y_real = A * np.sin(2 * np.pi * k * datos_x + theta)   # Calculamos y\n",
    "datos_y = y_real + 2 * random.randn(len(datos_x))   # Les metemos ruido para que parezcan reales"
   ]
  },
  {
   "cell_type": "code",
   "execution_count": 22,
   "metadata": {},
   "outputs": [],
   "source": [
    "# Ahora se trata de ajustar estos datos una función\n",
    "# modelo tipo senoidal A*sin(2*pi*k*x + theta)\n",
    "\n",
    "# Defino la funcion de residuos\n",
    "def residuos(p, y, x):\n",
    "    A, k, theta = p\n",
    "    error = y - A * np.sin(2 * np.pi * k * x + theta)\n",
    "    return error"
   ]
  },
  {
   "cell_type": "code",
   "execution_count": 23,
   "metadata": {},
   "outputs": [],
   "source": [
    "# Parámetros iniciales\n",
    "# y = p[0]*np.sin(2*np.pi*p[1]*x + p[2])\n",
    "# Si estos se alejan mucho del valor real\n",
    "# la solución no convergerá\n",
    "p0 = [8.0, 40.0, np.pi/3]"
   ]
  },
  {
   "cell_type": "code",
   "execution_count": 24,
   "metadata": {},
   "outputs": [
    {
     "name": "stdout",
     "output_type": "stream",
     "text": [
      "[-9.58048532 33.00169543 -2.42373489]\n"
     ]
    }
   ],
   "source": [
    "# hacemos  el ajuste por minimos cuadrados\n",
    "ajuste = leastsq(residuos, p0, args=(datos_y, datos_x))\n",
    "\n",
    "# El resultado es una lista, cuyo primer elemento es otra\n",
    "# lista con los parámetros del ajuste.\n",
    "print(ajuste[0])\n",
    "# array([ -9.787095  ,  32.91201348,  -2.3390355 ]"
   ]
  },
  {
   "cell_type": "code",
   "execution_count": 25,
   "metadata": {},
   "outputs": [],
   "source": [
    "# Defino la funcion modelo, para representarla gráficamente\n",
    "def funcion(x, p):\n",
    "    return p[0] * np.sin(2 * np.pi * p[1] * x + p[2])"
   ]
  },
  {
   "cell_type": "code",
   "execution_count": 26,
   "metadata": {},
   "outputs": [],
   "source": [
    "# genero datos a partir del modelo para representarlo\n",
    "x1 = np.arange(0, datos_x.max(), 0.001)  # array con muchos puntos de x\n",
    "y1 = funcion(x1, ajuste[0])           # valor de la funcion modelo en los x"
   ]
  },
  {
   "cell_type": "code",
   "execution_count": 27,
   "metadata": {},
   "outputs": [
    {
     "data": {
      "image/png": "[encoded data removed]",
      "text/plain": [
       "<Figure size 432x288 with 1 Axes>"
      ]
     },
     "metadata": {
      "needs_background": "light"
     },
     "output_type": "display_data"
    }
   ],
   "source": [
    "# Ahora muestro los datos y el ajuste gráficamente\n",
    "plt.plot(datos_x, datos_y, 'o')  # datos\n",
    "\n",
    "plt.plot(x1, y1, 'r-')\n",
    "plt.xlabel('Eje X')\n",
    "plt.ylabel('Eje Y')\n",
    "plt.title('Ajuste de funcion seno con leastsq')\n",
    "plt.legend(('Datos', 'Ajuste lineal'))\n",
    "plt.grid()\n",
    "plt.show()"
   ]
  },
  {
   "cell_type": "markdown",
   "metadata": {},
   "source": [
    "Este ejemplo es bastante elaborado porque hemos usado un optimizador general para hacer un ajuste, pero podemos usar curve_fit() para ahorrarnos la función residuo.\n",
    "\n",
    "La anterior es una manera artesanal de hacer el ajuste, al construir la función de error. Para un ajuste de datos"
   ]
  },
  {
   "cell_type": "markdown",
   "metadata": {},
   "source": [
    "## Búsqueda de minimos de una función"
   ]
  },
  {
   "cell_type": "markdown",
   "metadata": {},
   "source": [
    "En `Scipy` las funciones universales (suma, resta, division, etc.) se han alterado para no producir errores de coma flotante cuando se encuentran errores; por ejemplo se devuelve NaN e Inf en los arrays en lugar de errores. Para ayudar a la detección de estos eventos, hay disponibles varias funciones como `sp.isnan`, `sp.isinfinite`,  `sp.isinf`. Además se han modificado algunas funciones (log, sqrt, funciones trigonometricas inversas) para devolver valores complejos en lugar de NaN (por ejemplo sp.sqrt(-1) devuelve 1j).\n",
    "\n",
    "Dada la gran cantidad de módulos contenidos en Scipy, en esta sección nos limitaremos en dar ejemplos de algunos de ellos recordando que el camino ideal para el aprendizaje es la lectura de los manuales oficiales."
   ]
  },
  {
   "cell_type": "markdown",
   "metadata": {},
   "source": [
    "### fmin de scipy.optimize"
   ]
  },
  {
   "cell_type": "markdown",
   "metadata": {},
   "source": [
    "Minimiza una función usando el algoritmo downx simplex.\n",
    "\n",
    "Este algoritmo solo usa valores de función, no derivados o segundas derivadas."
   ]
  },
  {
   "cell_type": "markdown",
   "metadata": {},
   "source": [
    "A continuación cargaremos los módulos que vamos a necesitar,"
   ]
  },
  {
   "cell_type": "code",
   "execution_count": 28,
   "metadata": {},
   "outputs": [],
   "source": [
    "from scipy.optimize import fmin # Importamos fmin de scipy.optimize"
   ]
  },
  {
   "cell_type": "markdown",
   "metadata": {},
   "source": [
    "Definimos el sistema físico de unidades y la función sinc(x) en python."
   ]
  },
  {
   "cell_type": "code",
   "execution_count": 29,
   "metadata": {},
   "outputs": [],
   "source": [
    "# Definimos el sistema físico de unidades\n",
    "um = 1      # micras    \n",
    "mm = 100 * um       # milímetros\n",
    "\n",
    "# Definimos los parámetros físicos\n",
    "anchura_rendija = 40\n",
    "longitud_onda = 0.630 * um\n",
    "\n",
    "# Definimos la función \"sinc\".\n",
    "def sinc(x):\n",
    "  \"\"\"\n",
    "  * (float) --> (float)\n",
    "  * Descripción: Función sinc de un número dado (sen(x)/x).\n",
    "  * Entradas:\n",
    "  - x = float.\n",
    "  * Salidas:\n",
    "  - funcion_sinc = seno(float) / float\n",
    "  * Test:\n",
    "  >>> print(sinc(5))\n",
    "  3.46751168769e-06\n",
    "  \"\"\"\n",
    "  # Definimos la función sinc normalizada.\n",
    "  funcion_sinc = (np.sin(np.pi*anchura_rendija*np.sin(x)/longitud_onda)/(np.pi*anchura_rendija*np.sin(x)/longitud_onda))**2\n",
    "  return funcion_sinc          # La devolvemos."
   ]
  },
  {
   "cell_type": "code",
   "execution_count": 30,
   "metadata": {},
   "outputs": [
    {
     "data": {
      "image/png": "[encoded data removed]",
      "text/plain": [
       "<Figure size 432x288 with 1 Axes>"
      ]
     },
     "metadata": {
      "needs_background": "light"
     },
     "output_type": "display_data"
    }
   ],
   "source": [
    "# Podemos representar simplemente creando los arrays dimensionales y cargando matplotlib\n",
    "x = np.linspace(-0.1,0.1,300)\n",
    "y = sinc(x)\n",
    "\n",
    "# Creamos la figura\n",
    "plt.figure()\n",
    "\n",
    "#Representamos la gráfica\n",
    "plt.plot(x,y)\n",
    "\n",
    "plt.show()"
   ]
  },
  {
   "cell_type": "markdown",
   "metadata": {},
   "source": [
    "la función fmin necesita de valores iniciales a modo de semilla para comenzar las iteraciones. En nuestro caso hemos elegido como valor 0.001,"
   ]
  },
  {
   "cell_type": "code",
   "execution_count": 31,
   "metadata": {},
   "outputs": [],
   "source": [
    "# fmin necesita una semilla así que se la proporcionamos.\n",
    "semilla = 0.0251"
   ]
  },
  {
   "cell_type": "markdown",
   "metadata": {},
   "source": [
    "calculamos el valor del mínimo mediante fmin,"
   ]
  },
  {
   "cell_type": "code",
   "execution_count": 32,
   "metadata": {},
   "outputs": [
    {
     "name": "stdout",
     "output_type": "stream",
     "text": [
      "Optimization terminated successfully.\n",
      "         Current function value: 0.000001\n",
      "         Iterations: 8\n",
      "         Function evaluations: 16\n"
     ]
    }
   ],
   "source": [
    "# Calculamos el valor mínimo.\n",
    "x_minimo_intensidad = fmin(sinc,semilla)"
   ]
  },
  {
   "cell_type": "code",
   "execution_count": 33,
   "metadata": {},
   "outputs": [
    {
     "data": {
      "text/plain": [
       "array([0.03153188])"
      ]
     },
     "execution_count": 33,
     "metadata": {},
     "output_type": "execute_result"
    }
   ],
   "source": [
    "x_minimo_intensidad"
   ]
  },
  {
   "cell_type": "markdown",
   "metadata": {},
   "source": [
    "y por último presentamos en pantalla el resultado mediante un print.  \n",
    "Como podemos observar, tomamos directamente el valor calculado para el print. Esto lo conseguimos gracias al simbolo %.  \n",
    "La utilización es sencilla, en el lugar donde queramos que aparezca el valor de nuestra variable escribimos el símbolo % seguido del número de digitos que queramos que tenga la parte real y por últipo el tipo de numero que queremos mostrar.  \n",
    "En nuestro caso %1.2f significa un digito real, dos decimales y el tipo float.  \n",
    "Además fuera de las comillas del print debemos de poner otro % y entre paréntesis la variable a la que llamamos (en nuestro caso x_minimo_intensidad y sinc (x_minimo_intensidad) )."
   ]
  },
  {
   "cell_type": "code",
   "execution_count": 34,
   "metadata": {},
   "outputs": [
    {
     "name": "stdout",
     "output_type": "stream",
     "text": [
      "El valor de x en el que se encuentra el mínimo es 0.03 que se corresponde a y = 0.00\n"
     ]
    }
   ],
   "source": [
    "# Presenta en pantalla el mÃ­nimo y el valor de la funciÃ³n en ese punto.\n",
    "print ('El valor de x en el que se encuentra el mínimo es %1.2f que se corresponde a y = %1.2f' \\\n",
    "       % (x_minimo_intensidad , sinc (x_minimo_intensidad )))"
   ]
  },
  {
   "cell_type": "code",
   "execution_count": 35,
   "metadata": {},
   "outputs": [
    {
     "data": {
      "image/png": "[encoded data removed]",
      "text/plain": [
       "<Figure size 432x288 with 1 Axes>"
      ]
     },
     "metadata": {
      "needs_background": "light"
     },
     "output_type": "display_data"
    }
   ],
   "source": [
    "# Podemos representar simplemente creando los arrays dimensionales y cargando matplotlib\n",
    "# x = linspace(-0.1,0.1,300)\n",
    "# y = sinc(x)\n",
    "\n",
    "# Creamos la figura\n",
    "plt.figure()\n",
    "\n",
    "#Representamos la gráfica\n",
    "plt.plot(x,y)\n",
    "\n",
    "# Representamos junto a la gráfica anterior la semilla (en verde) y los mínimos (en rojo) encontrados\n",
    "#plt.plot(semilla,sinc(semilla),'gd')\n",
    "#plt.plot(x_minimo_intensidad ,sinc(x_minimo_intensidad ),'ro')\n",
    "#plt.plot(-x_minimo_intensidad ,sinc(x_minimo_intensidad ),'ro')\n",
    "\n",
    "plt.plot(semilla,sinc(semilla),'gd',                             #la semilla (en verde)\n",
    "         x_minimo_intensidad ,sinc(x_minimo_intensidad ),'ro',   # los mínimos (en rojo) encontrados\n",
    "         -x_minimo_intensidad ,sinc(x_minimo_intensidad ),'ro')\n",
    "\n",
    "\n",
    "# Añadimos etiquetas\n",
    "plt.xlabel('ángulo (Aº)')\n",
    "plt.ylabel('Intensidad')\n",
    "plt.title('Difracción por una rendija')\n",
    "plt.axis([-0.1,0.1,0,1])\n",
    "plt.legend\n",
    "plt.show()"
   ]
  },
  {
   "cell_type": "markdown",
   "metadata": {},
   "source": [
    "## Encontrar mínimos en un intervalo definido"
   ]
  },
  {
   "cell_type": "markdown",
   "metadata": {},
   "source": [
    "### scipy.optimize.fminbound\n",
    ". scipy.optimize.fminbound (func, x1, x2, args = (), xtol = 1e-05, maxfun = 500, full_output = 0, disp = 1)  \n",
    ". Minimización limitada para funciones escalares."
   ]
  },
  {
   "cell_type": "markdown",
   "metadata": {},
   "source": [
    "Otro camino para encontrar mínimos es mediante el uso de fminbound como vemos en este ejemplo. Sea la función\n",
    "\n",
    "$$y = -cos\\left(\\frac{a\\pi x}{b}\\right)+cx^{d}$$\n",
    "\n",
    "donde $a$, $b$, $c$, $d$ son coeficientes y $x$ es la variable. Para definirla en python vamos a crear una función cuyos argumentos sean estos parámetros."
   ]
  },
  {
   "cell_type": "code",
   "execution_count": 36,
   "metadata": {},
   "outputs": [],
   "source": [
    "#----------------------------------------------------------------------\n",
    "# Ejemplo_scipy_minimizacion.py para aprender como encontrar minimos locales con python.\n",
    "\"\"\"\n",
    "Descripcion: Encuentra minimos locales de una funcion escalar en el intervalo (x1,x2 usando el metodo de Brent).\n",
    "\"\"\"\n",
    "\n",
    "# import scipy as sp                      # Importamos scipy como el alias sp\n",
    "from scipy.optimize import fminbound    # Importamos fmindbound desde scipy.optimize    \n",
    "# import matplotlib.pyplot as plt         # Importamos matplotlib.pyplot como el alias plt\n",
    "\n",
    "def mi_funcion(x, a, b, c, d):\n",
    "    \"\"\"\n",
    "    * Descripcion: Funcion y = -cos(a*pi*x/b) + c*x*d\n",
    "    - x = variable.\n",
    "    - a, b, c, d = Coeficientes de la funcion.\n",
    "    * Salidas:\n",
    "    - y = -sp.cos(a*sp.pi*x/b) + c*x**d \n",
    "    \"\"\"\n",
    "    y = -np.cos(a*np.pi*x/b) + c*x**d\n",
    "    return  y"
   ]
  },
  {
   "cell_type": "code",
   "execution_count": 37,
   "metadata": {},
   "outputs": [],
   "source": [
    "# x = sp.arange(0,1,.01)\n",
    "# print(mi_funcion(x, a = 1, b = 0.5, c = 0.2, d = 2))"
   ]
  },
  {
   "cell_type": "code",
   "execution_count": 48,
   "metadata": {},
   "outputs": [],
   "source": [
    "# Definimos los coeficientes a, b, c, d\n",
    "a = 2\n",
    "b = 0.5\n",
    "c = 0.05\n",
    "d = 2\n",
    "\n",
    "# Definimos el intervalo de busqueda\n",
    "x1 = -0.2\n",
    "x2 = 0.2\n",
    "\n",
    "# Creamos el array dimensional\n",
    "x = np.arange(x1 - 1 , x2 + 1 ,.01)\n",
    "\n",
    "# Evaluamos x en la funcion definida\n",
    "y = mi_funcion(x, a, b, c, d)\n",
    "\n",
    "# Calculamos del minimo local de la funcion entre x1 y x2 \n",
    "x_minimo = fminbound(mi_funcion,x1,x2, args = (a,b,c,d))"
   ]
  },
  {
   "cell_type": "code",
   "execution_count": 49,
   "metadata": {},
   "outputs": [
    {
     "name": "stdout",
     "output_type": "stream",
     "text": [
      "El minimo esta en x = 0.000, y = -1.000\n"
     ]
    },
    {
     "data": {
      "image/png": "[encoded data removed]",
      "text/plain": [
       "<Figure size 432x288 with 1 Axes>"
      ]
     },
     "metadata": {
      "needs_background": "light"
     },
     "output_type": "display_data"
    }
   ],
   "source": [
    "# Presentamos en pantalla el resultado\n",
    "print ('El minimo esta en x = %2.3f, y = %2.3f' %(x_minimo, mi_funcion(x_minimo, a, b, c, d)))\n",
    "\n",
    "# Creamos la figura\n",
    "plt.figure\n",
    "\n",
    "# Dibujamos en azul, \"b\" y con \"-\"\n",
    "plt.plot(x,y,'b-')\n",
    "\n",
    "# Dibujamos el minimo encontrado en nuestro intervalo \n",
    "plt.plot(x_minimo, mi_funcion(x_minimo,a, b, c, d),'ro', markersize = 8)\n",
    "\n",
    "# Anadimos etiquetas\n",
    "plt.title(u'Busqueda de minimos en un intervalo dado')\n",
    "plt.xlabel('x')\n",
    "plt.ylabel('y')\n",
    "\n",
    "# Mostramos en pantalla\n",
    "plt.show()"
   ]
  },
  {
   "cell_type": "markdown",
   "metadata": {},
   "source": [
    "## Búsqueda de raíces de ecuaciones no lineales con SciPy"
   ]
  },
  {
   "cell_type": "markdown",
   "metadata": {},
   "source": [
    "### El método de Brent\n",
    "El método de Brent es un algoritmo de búsqueda de raíz que combina el método de bisección, el método de la secante y la interpolación cuadrática inversa. Este método es perteneciente a los métodos abiertos, gracias a Theodorus Dekker y Richard Brent."
   ]
  },
  {
   "cell_type": "code",
   "execution_count": 40,
   "metadata": {},
   "outputs": [],
   "source": [
    "# import numpy as np\n",
    "\n",
    "# import matplotlib.pyplot as plt"
   ]
  },
  {
   "cell_type": "markdown",
   "metadata": {},
   "source": [
    "Visto cómo resolver sistemas de ecuaciones lineales, tal vez sea incluso más atractivo resolver ecuaciones no lineales. Para ello, importaremos el paquete `optimize` de SciPy:"
   ]
  },
  {
   "cell_type": "code",
   "execution_count": 50,
   "metadata": {},
   "outputs": [],
   "source": [
    "from scipy import optimize"
   ]
  },
  {
   "cell_type": "markdown",
   "metadata": {},
   "source": [
    "La ayuda de este paquete es bastante larga (puedes consultarla también en http://docs.scipy.org/doc/scipy/reference/tutorial/optimize.html).  \n",
    "El paquete optimize incluye multitud de métodos para optimización, ajuste de curvas y búsqueda de raíces. Vamos a centrarnos ahora en la búsqueda de raíces de funciones escalares.  \n",
    "Para más información puedes leer http://pybonacci.org/2012/10/25/como-resolver-ecuaciones-algebraicas-en-python-con-scipy/"
   ]
  },
  {
   "cell_type": "markdown",
   "metadata": {},
   "source": [
    "<div class=\"alert alert-info\"> <bd> Nota </bd> : La función `root` se utiliza para hallar soluciones de *sistemas* de ecuaciones no lineales así que obviamente también funciona para ecuaciones escalares. No obstante, vamos a utilizar las funciones `brentq` y `newton` para que el método utilizado quede más claro. </div>"
   ]
  },
  {
   "cell_type": "markdown",
   "metadata": {},
   "source": [
    "Hay básicamente dos tipos de algoritmos para hallar raíces de ecuaciones no lineales:\n",
    "\n",
    "- Aquellos que operan en un intervalo [a,b] tal que f(a)⋅f(b) < 0. Más lentos, convergencia asegurada.\n",
    "- Aquellos que operan dando una condición inicial aproximadamente cerca de la solución. Más rápidos, convergencia condicionada.\n",
    "\n",
    "De los primeros vamos a usar la función brentq (aunque podríamos usar bisect) y de los segundos vamos a usar newton (que en realidad engloba los métodos de Newton y de la secante)."
   ]
  },
  {
   "cell_type": "markdown",
   "metadata": {},
   "source": [
    "**Ejemplo**:\n",
    "\n",
    "$\\ln{x} = \\sin{x} \\Rightarrow F(x) \\equiv \\ln{x} - \\sin{x} = 0$"
   ]
  },
  {
   "cell_type": "markdown",
   "metadata": {},
   "source": [
    "Lo primero que tengo que hacer es definir la ecuación, que matemáticamente será una función $F(x)$ que quiero igualar a cero."
   ]
  },
  {
   "cell_type": "code",
   "execution_count": 42,
   "metadata": {},
   "outputs": [],
   "source": [
    "def F(x):\n",
    "    return np.log(x) - np.sin(x)\n",
    "\n",
    "def S(x):\n",
    "    return np.sin(x)\n",
    "\n",
    "def L(x):\n",
    "    return np.log(x)"
   ]
  },
  {
   "cell_type": "markdown",
   "metadata": {},
   "source": [
    "Para hacernos una idea de las posibles soluciones siempre podemos representar gráficamente esa función:"
   ]
  },
  {
   "cell_type": "code",
   "execution_count": 43,
   "metadata": {},
   "outputs": [
    {
     "data": {
      "text/plain": [
       "<matplotlib.legend.Legend at 0x7f5346e73040>"
      ]
     },
     "execution_count": 43,
     "metadata": {},
     "output_type": "execute_result"
    },
    {
     "data": {
      "image/png": "[encoded data removed]",
      "text/plain": [
       "<Figure size 432x288 with 1 Axes>"
      ]
     },
     "metadata": {
      "needs_background": "light"
     },
     "output_type": "display_data"
    }
   ],
   "source": [
    "x = np.linspace(0.1, 10, num=100)\n",
    "\n",
    "plt.plot(x, F(x), 'k', lw=2, label=\"$F(x)$\")\n",
    "\n",
    "plt.plot(x, L(x), label=\"$\\log{x}$\")\n",
    "\n",
    "plt.plot(x, S(x), label=\"$\\sin{x}$\")\n",
    "\n",
    "plt.plot(x, np.zeros_like(x), 'k--')\n",
    "\n",
    "plt.legend(loc=4)"
   ]
  },
  {
   "cell_type": "markdown",
   "metadata": {},
   "source": [
    "Y utilizando por ejemplo el método de Brent en el intervalo [0,3]:"
   ]
  },
  {
   "cell_type": "code",
   "execution_count": 51,
   "metadata": {},
   "outputs": [
    {
     "name": "stdout",
     "output_type": "stream",
     "text": [
      "2.219107148913746\n"
     ]
    }
   ],
   "source": [
    "res = optimize.brentq(F, 0.0001, 3)\n",
    "print(res)"
   ]
  },
  {
   "cell_type": "code",
   "execution_count": 52,
   "metadata": {},
   "outputs": [
    {
     "name": "stdout",
     "output_type": "stream",
     "text": [
      "2.219107148913746\n"
     ]
    }
   ],
   "source": [
    "res = optimize.brentq(F, 0.2, 3)\n",
    "print(res)"
   ]
  },
  {
   "cell_type": "code",
   "execution_count": null,
   "metadata": {},
   "outputs": [],
   "source": []
  }
 ],
 "metadata": {
  "kernelspec": {
   "display_name": "Python 3 (ipykernel)",
   "language": "python",
   "name": "python3"
  },
  "language_info": {
   "codemirror_mode": {
    "name": "ipython",
    "version": 3
   },
   "file_extension": ".py",
   "mimetype": "text/x-python",
   "name": "python",
   "nbconvert_exporter": "python",
   "pygments_lexer": "ipython3",
   "version": "3.8.5"
  }
 },
 "nbformat": 4,
 "nbformat_minor": 4
}
